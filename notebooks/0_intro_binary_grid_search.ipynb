{
 "cells": [
  {
   "cell_type": "code",
   "execution_count": 1,
   "metadata": {},
   "outputs": [
    {
     "data": {
      "application/javascript": [
       "if (!(\"Notification\" in window)) {\n",
       "    alert(\"This browser does not support desktop notifications, so the %%notify magic will not work.\");\n",
       "} else if (Notification.permission !== 'granted' && Notification.permission !== 'denied') {\n",
       "    Notification.requestPermission(function (permission) {\n",
       "        if(!('permission' in Notification)) {\n",
       "            Notification.permission = permission;\n",
       "        }\n",
       "    })\n",
       "}\n"
      ],
      "text/plain": [
       "<IPython.core.display.Javascript object>"
      ]
     },
     "metadata": {},
     "output_type": "display_data"
    }
   ],
   "source": [
    "import os\n",
    "from tqdm import tqdm\n",
    "tqdm.pandas(desc=\"my bar!\")\n",
    "from time import time\n",
    "%load_ext jupyternotify"
   ]
  },
  {
   "cell_type": "code",
   "execution_count": 2,
   "metadata": {},
   "outputs": [],
   "source": [
    "y_field = 'y:label'\n",
    "data_file_name = '../data/kddcup.data_10_percent.gz'\n",
    "# data_file_name = '../data/kddcup.data.gz'"
   ]
  },
  {
   "cell_type": "code",
   "execution_count": 3,
   "metadata": {},
   "outputs": [
    {
     "name": "stdout",
     "output_type": "stream",
     "text": [
      "(494021, 42)\n"
     ]
    },
    {
     "data": {
      "text/html": [
       "<div>\n",
       "<style>\n",
       "    .dataframe thead tr:only-child th {\n",
       "        text-align: right;\n",
       "    }\n",
       "\n",
       "    .dataframe thead th {\n",
       "        text-align: left;\n",
       "    }\n",
       "\n",
       "    .dataframe tbody tr th {\n",
       "        vertical-align: top;\n",
       "    }\n",
       "</style>\n",
       "<table border=\"1\" class=\"dataframe\">\n",
       "  <thead>\n",
       "    <tr style=\"text-align: right;\">\n",
       "      <th></th>\n",
       "      <th>duration: continuous.</th>\n",
       "      <th>protocol_type: symbolic.</th>\n",
       "      <th>service: symbolic.</th>\n",
       "      <th>flag: symbolic.</th>\n",
       "      <th>src_bytes: continuous.</th>\n",
       "      <th>dst_bytes: continuous.</th>\n",
       "      <th>land: symbolic.</th>\n",
       "      <th>wrong_fragment: continuous.</th>\n",
       "      <th>urgent: continuous.</th>\n",
       "      <th>hot: continuous.</th>\n",
       "      <th>...</th>\n",
       "      <th>dst_host_srv_count: continuous.</th>\n",
       "      <th>dst_host_same_srv_rate: continuous.</th>\n",
       "      <th>dst_host_diff_srv_rate: continuous.</th>\n",
       "      <th>dst_host_same_src_port_rate: continuous.</th>\n",
       "      <th>dst_host_srv_diff_host_rate: continuous.</th>\n",
       "      <th>dst_host_serror_rate: continuous.</th>\n",
       "      <th>dst_host_srv_serror_rate: continuous.</th>\n",
       "      <th>dst_host_rerror_rate: continuous.</th>\n",
       "      <th>dst_host_srv_rerror_rate: continuous.</th>\n",
       "      <th>y:label</th>\n",
       "    </tr>\n",
       "  </thead>\n",
       "  <tbody>\n",
       "    <tr>\n",
       "      <th>0</th>\n",
       "      <td>0</td>\n",
       "      <td>tcp</td>\n",
       "      <td>http</td>\n",
       "      <td>SF</td>\n",
       "      <td>181</td>\n",
       "      <td>5450</td>\n",
       "      <td>0</td>\n",
       "      <td>0</td>\n",
       "      <td>0</td>\n",
       "      <td>0</td>\n",
       "      <td>...</td>\n",
       "      <td>9</td>\n",
       "      <td>1.0</td>\n",
       "      <td>0.0</td>\n",
       "      <td>0.11</td>\n",
       "      <td>0.0</td>\n",
       "      <td>0.0</td>\n",
       "      <td>0.0</td>\n",
       "      <td>0.0</td>\n",
       "      <td>0.0</td>\n",
       "      <td>normal.</td>\n",
       "    </tr>\n",
       "    <tr>\n",
       "      <th>1</th>\n",
       "      <td>0</td>\n",
       "      <td>tcp</td>\n",
       "      <td>http</td>\n",
       "      <td>SF</td>\n",
       "      <td>239</td>\n",
       "      <td>486</td>\n",
       "      <td>0</td>\n",
       "      <td>0</td>\n",
       "      <td>0</td>\n",
       "      <td>0</td>\n",
       "      <td>...</td>\n",
       "      <td>19</td>\n",
       "      <td>1.0</td>\n",
       "      <td>0.0</td>\n",
       "      <td>0.05</td>\n",
       "      <td>0.0</td>\n",
       "      <td>0.0</td>\n",
       "      <td>0.0</td>\n",
       "      <td>0.0</td>\n",
       "      <td>0.0</td>\n",
       "      <td>normal.</td>\n",
       "    </tr>\n",
       "    <tr>\n",
       "      <th>2</th>\n",
       "      <td>0</td>\n",
       "      <td>tcp</td>\n",
       "      <td>http</td>\n",
       "      <td>SF</td>\n",
       "      <td>235</td>\n",
       "      <td>1337</td>\n",
       "      <td>0</td>\n",
       "      <td>0</td>\n",
       "      <td>0</td>\n",
       "      <td>0</td>\n",
       "      <td>...</td>\n",
       "      <td>29</td>\n",
       "      <td>1.0</td>\n",
       "      <td>0.0</td>\n",
       "      <td>0.03</td>\n",
       "      <td>0.0</td>\n",
       "      <td>0.0</td>\n",
       "      <td>0.0</td>\n",
       "      <td>0.0</td>\n",
       "      <td>0.0</td>\n",
       "      <td>normal.</td>\n",
       "    </tr>\n",
       "    <tr>\n",
       "      <th>3</th>\n",
       "      <td>0</td>\n",
       "      <td>tcp</td>\n",
       "      <td>http</td>\n",
       "      <td>SF</td>\n",
       "      <td>219</td>\n",
       "      <td>1337</td>\n",
       "      <td>0</td>\n",
       "      <td>0</td>\n",
       "      <td>0</td>\n",
       "      <td>0</td>\n",
       "      <td>...</td>\n",
       "      <td>39</td>\n",
       "      <td>1.0</td>\n",
       "      <td>0.0</td>\n",
       "      <td>0.03</td>\n",
       "      <td>0.0</td>\n",
       "      <td>0.0</td>\n",
       "      <td>0.0</td>\n",
       "      <td>0.0</td>\n",
       "      <td>0.0</td>\n",
       "      <td>normal.</td>\n",
       "    </tr>\n",
       "    <tr>\n",
       "      <th>4</th>\n",
       "      <td>0</td>\n",
       "      <td>tcp</td>\n",
       "      <td>http</td>\n",
       "      <td>SF</td>\n",
       "      <td>217</td>\n",
       "      <td>2032</td>\n",
       "      <td>0</td>\n",
       "      <td>0</td>\n",
       "      <td>0</td>\n",
       "      <td>0</td>\n",
       "      <td>...</td>\n",
       "      <td>49</td>\n",
       "      <td>1.0</td>\n",
       "      <td>0.0</td>\n",
       "      <td>0.02</td>\n",
       "      <td>0.0</td>\n",
       "      <td>0.0</td>\n",
       "      <td>0.0</td>\n",
       "      <td>0.0</td>\n",
       "      <td>0.0</td>\n",
       "      <td>normal.</td>\n",
       "    </tr>\n",
       "  </tbody>\n",
       "</table>\n",
       "<p>5 rows × 42 columns</p>\n",
       "</div>"
      ],
      "text/plain": [
       "   duration: continuous. protocol_type: symbolic. service: symbolic.  \\\n",
       "0                      0                      tcp               http   \n",
       "1                      0                      tcp               http   \n",
       "2                      0                      tcp               http   \n",
       "3                      0                      tcp               http   \n",
       "4                      0                      tcp               http   \n",
       "\n",
       "  flag: symbolic.  src_bytes: continuous.  dst_bytes: continuous.  \\\n",
       "0              SF                     181                    5450   \n",
       "1              SF                     239                     486   \n",
       "2              SF                     235                    1337   \n",
       "3              SF                     219                    1337   \n",
       "4              SF                     217                    2032   \n",
       "\n",
       "   land: symbolic.  wrong_fragment: continuous.  urgent: continuous.  \\\n",
       "0                0                            0                    0   \n",
       "1                0                            0                    0   \n",
       "2                0                            0                    0   \n",
       "3                0                            0                    0   \n",
       "4                0                            0                    0   \n",
       "\n",
       "   hot: continuous.   ...     dst_host_srv_count: continuous.  \\\n",
       "0                 0   ...                                   9   \n",
       "1                 0   ...                                  19   \n",
       "2                 0   ...                                  29   \n",
       "3                 0   ...                                  39   \n",
       "4                 0   ...                                  49   \n",
       "\n",
       "   dst_host_same_srv_rate: continuous.  dst_host_diff_srv_rate: continuous.  \\\n",
       "0                                  1.0                                  0.0   \n",
       "1                                  1.0                                  0.0   \n",
       "2                                  1.0                                  0.0   \n",
       "3                                  1.0                                  0.0   \n",
       "4                                  1.0                                  0.0   \n",
       "\n",
       "   dst_host_same_src_port_rate: continuous.  \\\n",
       "0                                      0.11   \n",
       "1                                      0.05   \n",
       "2                                      0.03   \n",
       "3                                      0.03   \n",
       "4                                      0.02   \n",
       "\n",
       "   dst_host_srv_diff_host_rate: continuous.  \\\n",
       "0                                       0.0   \n",
       "1                                       0.0   \n",
       "2                                       0.0   \n",
       "3                                       0.0   \n",
       "4                                       0.0   \n",
       "\n",
       "   dst_host_serror_rate: continuous.  dst_host_srv_serror_rate: continuous.  \\\n",
       "0                                0.0                                    0.0   \n",
       "1                                0.0                                    0.0   \n",
       "2                                0.0                                    0.0   \n",
       "3                                0.0                                    0.0   \n",
       "4                                0.0                                    0.0   \n",
       "\n",
       "   dst_host_rerror_rate: continuous.  dst_host_srv_rerror_rate: continuous.  \\\n",
       "0                                0.0                                    0.0   \n",
       "1                                0.0                                    0.0   \n",
       "2                                0.0                                    0.0   \n",
       "3                                0.0                                    0.0   \n",
       "4                                0.0                                    0.0   \n",
       "\n",
       "   y:label  \n",
       "0  normal.  \n",
       "1  normal.  \n",
       "2  normal.  \n",
       "3  normal.  \n",
       "4  normal.  \n",
       "\n",
       "[5 rows x 42 columns]"
      ]
     },
     "execution_count": 3,
     "metadata": {},
     "output_type": "execute_result"
    }
   ],
   "source": [
    "features_types = [\"duration: continuous.\", \"protocol_type: symbolic.\", \"service: symbolic.\", \"flag: symbolic.\", \"src_bytes: continuous.\", \"dst_bytes: continuous.\", \"land: symbolic.\", \"wrong_fragment: continuous.\", \"urgent: continuous.\", \"hot: continuous.\", \"num_failed_logins: continuous.\", \"logged_in: symbolic.\", \"num_compromised: continuous.\", \"root_shell: continuous.\", \"su_attempted: continuous.\", \"num_root: continuous.\", \"num_file_creations: continuous.\", \"num_shells: continuous.\", \"num_access_files: continuous.\", \"num_outbound_cmds: continuous.\", \"is_host_login: symbolic.\", \"is_guest_login: symbolic.\", \"count: continuous.\", \"srv_count: continuous.\", \"serror_rate: continuous.\", \"srv_serror_rate: continuous.\", \"rerror_rate: continuous.\", \"srv_rerror_rate: continuous.\", \"same_srv_rate: continuous.\", \"diff_srv_rate: continuous.\", \"srv_diff_host_rate: continuous.\", \"dst_host_count: continuous.\", \"dst_host_srv_count: continuous.\", \"dst_host_same_srv_rate: continuous.\", \"dst_host_diff_srv_rate: continuous.\", \"dst_host_same_src_port_rate: continuous.\", \"dst_host_srv_diff_host_rate: continuous.\", \"dst_host_serror_rate: continuous.\", \"dst_host_srv_serror_rate: continuous.\", \"dst_host_rerror_rate: continuous.\", \"dst_host_srv_rerror_rate: continuous.\",'y:label']\n",
    "features_0 = [\"duration\", \"protocol_type\", \"service\", \"flag\", \"src_bytes\", \"dst_bytes\", \"land\", \"wrong_fragment\", \"urgent\", \"hot\", \"num_failed_logins\", \"logged_in\", \"num_compromised\", \"root_shell\", \"su_attempted\", \"num_root\", \"num_file_creations\", \"num_shells\", \"num_access_files\", \"num_outbound_cmds\", \"is_host_login\", \"is_guest_login\", \"count\", \"srv_count\", \"serror_rate\", \"srv_serror_rate\", \"rerror_rate\", \"srv_rerror_rate\", \"same_srv_rate\", \"diff_srv_rate\", \"srv_diff_host_rate\", \"dst_host_count\", \"dst_host_srv_count\", \"dst_host_same_srv_rate\", \"dst_host_diff_srv_rate\", \"dst_host_same_src_port_rate\", \"dst_host_srv_diff_host_rate\", \"dst_host_serror_rate\", \"dst_host_srv_serror_rate\", \"dst_host_rerror_rate\", \"dst_host_srv_rerror_rate\",\"y\"]\n",
    "df = pd.read_csv(data_file_name, names=features_types)\n",
    "print(df.shape)\n",
    "df.head()"
   ]
  },
  {
   "cell_type": "code",
   "execution_count": 4,
   "metadata": {},
   "outputs": [],
   "source": [
    "df['y_binary'] = 'benign'\n",
    "df.loc[df[y_field]!='normal.','y_binary']='malware'\n",
    "y_field = 'y_binary'"
   ]
  },
  {
   "cell_type": "code",
   "execution_count": 5,
   "metadata": {},
   "outputs": [
    {
     "data": {
      "text/plain": [
       "malware    396743\n",
       "benign      97278\n",
       "Name: y_binary, dtype: int64"
      ]
     },
     "execution_count": 5,
     "metadata": {},
     "output_type": "execute_result"
    }
   ],
   "source": [
    "df['y_binary'].value_counts()"
   ]
  },
  {
   "cell_type": "code",
   "execution_count": 6,
   "metadata": {},
   "outputs": [
    {
     "data": {
      "text/plain": [
       "2"
      ]
     },
     "execution_count": 6,
     "metadata": {},
     "output_type": "execute_result"
    }
   ],
   "source": [
    "n_classes = df[y_field].nunique()\n",
    "n_classes"
   ]
  },
  {
   "cell_type": "code",
   "execution_count": 7,
   "metadata": {},
   "outputs": [
    {
     "name": "stdout",
     "output_type": "stream",
     "text": [
      "34 3\n"
     ]
    }
   ],
   "source": [
    "features_continuous = [x for x in features_types if 'continuous' in x]\n",
    "features_categorical = ['protocol_type: symbolic.','service: symbolic.','flag: symbolic.']\n",
    "\n",
    "print(len(features_continuous),len(features_categorical))"
   ]
  },
  {
   "cell_type": "code",
   "execution_count": 8,
   "metadata": {},
   "outputs": [
    {
     "data": {
      "text/plain": [
       "(494021, 120)"
      ]
     },
     "execution_count": 8,
     "metadata": {},
     "output_type": "execute_result"
    }
   ],
   "source": [
    "df = pd.get_dummies(df,columns=features_categorical)\n",
    "df.shape"
   ]
  },
  {
   "cell_type": "code",
   "execution_count": 10,
   "metadata": {
    "scrolled": true
   },
   "outputs": [
    {
     "data": {
      "text/plain": [
       "77"
      ]
     },
     "execution_count": 10,
     "metadata": {},
     "output_type": "execute_result"
    }
   ],
   "source": [
    "features_categorical_extended = [x for y in features_categorical for x in df.columns if x.split('_')[0]==y]\n",
    "len(features_categorical_extended)"
   ]
  },
  {
   "cell_type": "code",
   "execution_count": 11,
   "metadata": {},
   "outputs": [],
   "source": [
    "from sklearn.base import BaseEstimator,TransformerMixin\n",
    "from sklearn.preprocessing import MinMaxScaler,LabelEncoder,OneHotEncoder\n",
    "from sklearn.pipeline import Pipeline,FeatureUnion\n",
    "from sklearn.model_selection import StratifiedShuffleSplit,StratifiedKFold,KFold\n",
    "from sklearn.svm import SVC\n",
    "from sklearn.linear_model import LogisticRegression\n",
    "from sklearn.ensemble import RandomForestClassifier\n",
    "from sklearn.metrics import confusion_matrix,precision_score,classification_report,accuracy_score"
   ]
  },
  {
   "cell_type": "code",
   "execution_count": 12,
   "metadata": {},
   "outputs": [],
   "source": [
    "# Class that identifies Column type\n",
    "class ItemSelector(BaseEstimator, TransformerMixin):\n",
    "    def __init__(self, names=None):\n",
    "        self.names = names\n",
    "    def fit (self, X, y=None, **fit_params):\n",
    "        return self\n",
    "    def transform(self, X):\n",
    "        return X[self.names]\n",
    "    \n",
    "class Logger(BaseEstimator):\n",
    "    def __init__(self):\n",
    "        pass\n",
    "    def fit(self, X, y=None):\n",
    "        return self\n",
    "    def transform(self,X, y=None):\n",
    "        print(\"process done: {}\".format(X.shape))\n",
    "        return X"
   ]
  },
  {
   "cell_type": "code",
   "execution_count": 13,
   "metadata": {},
   "outputs": [],
   "source": [
    "features = FeatureUnion(\n",
    "    transformer_list=[\n",
    "        (\"numeric\",Pipeline(\n",
    "        [\n",
    "            ('selector',ItemSelector(names=features_continuous)),\n",
    "            ('scaler',MinMaxScaler()),\n",
    "            ('log',Logger()),\n",
    "        ])\n",
    "        ),\n",
    "        \n",
    "        \n",
    "         (\"categorical\",Pipeline(\n",
    "        [\n",
    "            ('selector',ItemSelector(names=features_categorical_extended)),\n",
    "            ('log',Logger()),\n",
    "        ])\n",
    "        ),\n",
    "#         ('log',Logger()),\n",
    "    ]\n",
    ")"
   ]
  },
  {
   "cell_type": "code",
   "execution_count": null,
   "metadata": {},
   "outputs": [],
   "source": []
  },
  {
   "cell_type": "code",
   "execution_count": null,
   "metadata": {},
   "outputs": [],
   "source": []
  },
  {
   "cell_type": "code",
   "execution_count": 14,
   "metadata": {},
   "outputs": [],
   "source": [
    "cls = SVC()\n",
    "cls = RandomForestClassifier(n_jobs=10, max_depth=5, n_estimators=10, max_features=1)\n",
    "cls = LogisticRegression()\n",
    "simple_pipeline = Pipeline(\n",
    "[\n",
    "    ('features',features),\n",
    "    ('cls',cls)\n",
    "],\n",
    ")"
   ]
  },
  {
   "cell_type": "code",
   "execution_count": null,
   "metadata": {
    "scrolled": false
   },
   "outputs": [],
   "source": [
    "%%notify\n",
    "t = time()\n",
    "cv = StratifiedKFold(n_splits=2, shuffle=True)\n",
    "# cv = StratifiedShuffleSplit(n_splits=3,test_size=0.1)\n",
    "cms = np.ndarray((cv.n_splits, n_classes * n_classes), int)\n",
    "for i, (train, test) in zip(range(cv.n_splits),cv.split(df,df[y_field])):\n",
    "    simple_pipeline.fit(df.iloc[train],df.iloc[train][y_field])\n",
    "    y_pred = simple_pipeline.predict(df.iloc[test])\n",
    "    cm = confusion_matrix(df.iloc[test][y_field], y_pred)\n",
    "#     print(cm)\n",
    "    print(\"p_micro:{},p_macro:{}\".format(precision_score(df.iloc[test][y_field],y_pred,average='micro'),\n",
    "                                        precision_score(df.iloc[test][y_field],y_pred,average='macro')))\n",
    "    print(classification_report(df.iloc[test][y_field],y_pred))\n",
    "    cms[i] = cm.flatten()\n",
    "avg_cms = cms.mean(axis=0).reshape((n_classes, n_classes)).astype(int)\n",
    "print('average confusion matrix:\\n{}'.format(avg_cms))\n",
    "print('estimation finished. Elapsed: {}'.format(time() - t))"
   ]
  },
  {
   "cell_type": "markdown",
   "metadata": {},
   "source": [
    "## grid search"
   ]
  },
  {
   "cell_type": "code",
   "execution_count": 15,
   "metadata": {},
   "outputs": [],
   "source": [
    "from sklearn.model_selection  import GridSearchCV,RandomizedSearchCV"
   ]
  },
  {
   "cell_type": "code",
   "execution_count": 16,
   "metadata": {},
   "outputs": [
    {
     "data": {
      "text/plain": [
       "[('features', FeatureUnion(n_jobs=1,\n",
       "         transformer_list=[('numeric', Pipeline(memory=None,\n",
       "       steps=[('selector', ItemSelector(names=['duration: continuous.', 'src_bytes: continuous.', 'dst_bytes: continuous.', 'wrong_fragment: continuous.', 'urgent: continuous.', 'hot: continuous.', 'num_failed_logins: continuous.', 'num_compromised: ...lic._S2', 'flag: symbolic._S3', 'flag: symbolic._SF', 'flag: symbolic._SH'])), ('log', Logger())]))],\n",
       "         transformer_weights=None)),\n",
       " ('cls',\n",
       "  LogisticRegression(C=1.0, class_weight=None, dual=False, fit_intercept=True,\n",
       "            intercept_scaling=1, max_iter=100, multi_class='ovr', n_jobs=1,\n",
       "            penalty='l2', random_state=None, solver='liblinear', tol=0.0001,\n",
       "            verbose=0, warm_start=False))]"
      ]
     },
     "execution_count": 16,
     "metadata": {},
     "output_type": "execute_result"
    }
   ],
   "source": [
    "simple_pipeline.steps"
   ]
  },
  {
   "cell_type": "code",
   "execution_count": 18,
   "metadata": {},
   "outputs": [
    {
     "name": "stdout",
     "output_type": "stream",
     "text": [
      "{'cls__n_estimators': [200, 300, 400, 500, 600, 700, 800, 900], 'cls__max_depth': [10, 21, 32, 43, 54, 65, 76, 87, 98, 109, None], 'cls__min_samples_split': [2, 5, 10], 'cls__min_samples_leaf': [1, 2, 4], 'cls__bootstrap': [True, False]}\n"
     ]
    }
   ],
   "source": [
    "n_estimators = list(range(200,1000,100))\n",
    "\n",
    "max_features = ['auto', 'sqrt']\n",
    "max_depth =  list(range(10,110,11))\n",
    "max_depth.append(None)\n",
    "\n",
    "min_samples_split = [2, 5, 10]\n",
    "\n",
    "min_samples_leaf = [1, 2, 4]\n",
    "\n",
    "bootstrap = [True, False]\n",
    "\n",
    "random_grid = {'cls__n_estimators': n_estimators,\n",
    "#                'cls__max_features': max_features,\n",
    "               'cls__max_depth': max_depth,\n",
    "               'cls__min_samples_split': min_samples_split,\n",
    "               'cls__min_samples_leaf': min_samples_leaf,\n",
    "               'cls__bootstrap': bootstrap}\n",
    "print(random_grid)"
   ]
  },
  {
   "cell_type": "code",
   "execution_count": 20,
   "metadata": {},
   "outputs": [],
   "source": [
    "rf_random = RandomizedSearchCV(simple_pipeline,\n",
    "                               param_distributions=random_grid,\n",
    "                               scoring='accuracy',\n",
    "                               n_iter=10,\n",
    "                               cv=3,\n",
    "                               verbose=1,\n",
    "                               random_state=17,\n",
    "                               n_jobs=4)"
   ]
  },
  {
   "cell_type": "code",
   "execution_count": null,
   "metadata": {},
   "outputs": [
    {
     "name": "stdout",
     "output_type": "stream",
     "text": [
      "Fitting 3 folds for each of 10 candidates, totalling 30 fits\n"
     ]
    }
   ],
   "source": [
    "%%notify\n",
    "t = df.sample(1000)\n",
    "rf_random.fit(t[features_continuous], t[y_field])"
   ]
  },
  {
   "cell_type": "code",
   "execution_count": null,
   "metadata": {},
   "outputs": [],
   "source": [
    "2+2"
   ]
  },
  {
   "cell_type": "code",
   "execution_count": null,
   "metadata": {},
   "outputs": [],
   "source": []
  },
  {
   "cell_type": "code",
   "execution_count": null,
   "metadata": {},
   "outputs": [],
   "source": []
  },
  {
   "cell_type": "code",
   "execution_count": null,
   "metadata": {},
   "outputs": [],
   "source": [
    "simple_pipeline.fit(df,df[y_field])"
   ]
  },
  {
   "cell_type": "markdown",
   "metadata": {},
   "source": [
    "# Estimation"
   ]
  },
  {
   "cell_type": "code",
   "execution_count": null,
   "metadata": {},
   "outputs": [],
   "source": [
    "df_test = pd.read_csv('../data/corrected.gz',names=features_types)\n",
    "print(df_test.shape)\n",
    "df_test.head()"
   ]
  },
  {
   "cell_type": "code",
   "execution_count": null,
   "metadata": {},
   "outputs": [],
   "source": [
    "df_test['y_binary'] = 'benign'\n",
    "df_test.loc[df_test['y:label']!='normal.','y_binary']='malware'\n",
    "y_field = 'y_binary'\n",
    "df_test = pd.get_dummies(df_test,columns=features_categorical)\n",
    "df_test['y_binary'].value_counts()"
   ]
  },
  {
   "cell_type": "markdown",
   "metadata": {},
   "source": [
    "TEST FEATURES != LEARN FEATURES"
   ]
  },
  {
   "cell_type": "code",
   "execution_count": null,
   "metadata": {},
   "outputs": [],
   "source": []
  },
  {
   "cell_type": "code",
   "execution_count": null,
   "metadata": {},
   "outputs": [],
   "source": [
    "df_test.columns"
   ]
  },
  {
   "cell_type": "code",
   "execution_count": null,
   "metadata": {},
   "outputs": [],
   "source": [
    "df_test[features_categorical_extended]"
   ]
  },
  {
   "cell_type": "code",
   "execution_count": null,
   "metadata": {},
   "outputs": [],
   "source": [
    "df_test['y_pred'] = simple_pipeline.predict(df_test)\n",
    "print(classification_report(df_test[y_field],df_test['y_pred']))\n",
    "print(f\"acc:{accuracy_score(df_test[y_field],df_test['y_pred'])}\")\n",
    "print(confusion_matrix(df_test[y_field],df_test['y_pred']))"
   ]
  },
  {
   "cell_type": "code",
   "execution_count": null,
   "metadata": {},
   "outputs": [],
   "source": [
    "accuracy_score(df_test[y_field],df_test['y_pred'])"
   ]
  },
  {
   "cell_type": "markdown",
   "metadata": {},
   "source": [
    "# Plan\n",
    "* other features - one hot encoding\n",
    "* add grid search\n",
    "* NN"
   ]
  },
  {
   "cell_type": "code",
   "execution_count": null,
   "metadata": {},
   "outputs": [],
   "source": []
  }
 ],
 "metadata": {
  "anaconda-cloud": {},
  "kernelspec": {
   "display_name": "Python [conda env:web-page]",
   "language": "python",
   "name": "conda-env-web-page-py"
  },
  "language_info": {
   "codemirror_mode": {
    "name": "ipython",
    "version": 3
   },
   "file_extension": ".py",
   "mimetype": "text/x-python",
   "name": "python",
   "nbconvert_exporter": "python",
   "pygments_lexer": "ipython3",
   "version": "3.6.4"
  }
 },
 "nbformat": 4,
 "nbformat_minor": 2
}
