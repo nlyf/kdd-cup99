{
 "cells": [
  {
   "cell_type": "markdown",
   "metadata": {},
   "source": [
    "# KDD-CUP99\n",
    "*intro*"
   ]
  },
  {
   "cell_type": "code",
   "execution_count": 1,
   "metadata": {},
   "outputs": [
    {
     "data": {
      "application/javascript": [
       "if (!(\"Notification\" in window)) {\n",
       "    alert(\"This browser does not support desktop notifications, so the %%notify magic will not work.\");\n",
       "} else if (Notification.permission !== 'granted' && Notification.permission !== 'denied') {\n",
       "    Notification.requestPermission(function (permission) {\n",
       "        if(!('permission' in Notification)) {\n",
       "            Notification.permission = permission;\n",
       "        }\n",
       "    })\n",
       "}\n"
      ],
      "text/plain": [
       "<IPython.core.display.Javascript object>"
      ]
     },
     "metadata": {},
     "output_type": "display_data"
    }
   ],
   "source": [
    "import os\n",
    "from tqdm import tqdm\n",
    "tqdm.pandas(desc=\"my bar!\")\n",
    "from time import time\n",
    "%load_ext jupyternotify"
   ]
  },
  {
   "cell_type": "code",
   "execution_count": 2,
   "metadata": {},
   "outputs": [],
   "source": [
    "y_field = 'y:label'\n",
    "data_file_name = '../data/kddcup.data_10_percent.gz'\n",
    "data_file_name = '../data/kddcup.data.gz'"
   ]
  },
  {
   "cell_type": "code",
   "execution_count": 3,
   "metadata": {},
   "outputs": [
    {
     "name": "stdout",
     "output_type": "stream",
     "text": [
      "(4898431, 42)\n"
     ]
    },
    {
     "data": {
      "text/html": [
       "<div>\n",
       "<style>\n",
       "    .dataframe thead tr:only-child th {\n",
       "        text-align: right;\n",
       "    }\n",
       "\n",
       "    .dataframe thead th {\n",
       "        text-align: left;\n",
       "    }\n",
       "\n",
       "    .dataframe tbody tr th {\n",
       "        vertical-align: top;\n",
       "    }\n",
       "</style>\n",
       "<table border=\"1\" class=\"dataframe\">\n",
       "  <thead>\n",
       "    <tr style=\"text-align: right;\">\n",
       "      <th></th>\n",
       "      <th>duration: continuous.</th>\n",
       "      <th>protocol_type: symbolic.</th>\n",
       "      <th>service: symbolic.</th>\n",
       "      <th>flag: symbolic.</th>\n",
       "      <th>src_bytes: continuous.</th>\n",
       "      <th>dst_bytes: continuous.</th>\n",
       "      <th>land: symbolic.</th>\n",
       "      <th>wrong_fragment: continuous.</th>\n",
       "      <th>urgent: continuous.</th>\n",
       "      <th>hot: continuous.</th>\n",
       "      <th>...</th>\n",
       "      <th>dst_host_srv_count: continuous.</th>\n",
       "      <th>dst_host_same_srv_rate: continuous.</th>\n",
       "      <th>dst_host_diff_srv_rate: continuous.</th>\n",
       "      <th>dst_host_same_src_port_rate: continuous.</th>\n",
       "      <th>dst_host_srv_diff_host_rate: continuous.</th>\n",
       "      <th>dst_host_serror_rate: continuous.</th>\n",
       "      <th>dst_host_srv_serror_rate: continuous.</th>\n",
       "      <th>dst_host_rerror_rate: continuous.</th>\n",
       "      <th>dst_host_srv_rerror_rate: continuous.</th>\n",
       "      <th>y:label</th>\n",
       "    </tr>\n",
       "  </thead>\n",
       "  <tbody>\n",
       "    <tr>\n",
       "      <th>0</th>\n",
       "      <td>0</td>\n",
       "      <td>tcp</td>\n",
       "      <td>http</td>\n",
       "      <td>SF</td>\n",
       "      <td>215</td>\n",
       "      <td>45076</td>\n",
       "      <td>0</td>\n",
       "      <td>0</td>\n",
       "      <td>0</td>\n",
       "      <td>0</td>\n",
       "      <td>...</td>\n",
       "      <td>0</td>\n",
       "      <td>0.0</td>\n",
       "      <td>0.0</td>\n",
       "      <td>0.00</td>\n",
       "      <td>0.0</td>\n",
       "      <td>0.0</td>\n",
       "      <td>0.0</td>\n",
       "      <td>0.0</td>\n",
       "      <td>0.0</td>\n",
       "      <td>normal.</td>\n",
       "    </tr>\n",
       "    <tr>\n",
       "      <th>1</th>\n",
       "      <td>0</td>\n",
       "      <td>tcp</td>\n",
       "      <td>http</td>\n",
       "      <td>SF</td>\n",
       "      <td>162</td>\n",
       "      <td>4528</td>\n",
       "      <td>0</td>\n",
       "      <td>0</td>\n",
       "      <td>0</td>\n",
       "      <td>0</td>\n",
       "      <td>...</td>\n",
       "      <td>1</td>\n",
       "      <td>1.0</td>\n",
       "      <td>0.0</td>\n",
       "      <td>1.00</td>\n",
       "      <td>0.0</td>\n",
       "      <td>0.0</td>\n",
       "      <td>0.0</td>\n",
       "      <td>0.0</td>\n",
       "      <td>0.0</td>\n",
       "      <td>normal.</td>\n",
       "    </tr>\n",
       "    <tr>\n",
       "      <th>2</th>\n",
       "      <td>0</td>\n",
       "      <td>tcp</td>\n",
       "      <td>http</td>\n",
       "      <td>SF</td>\n",
       "      <td>236</td>\n",
       "      <td>1228</td>\n",
       "      <td>0</td>\n",
       "      <td>0</td>\n",
       "      <td>0</td>\n",
       "      <td>0</td>\n",
       "      <td>...</td>\n",
       "      <td>2</td>\n",
       "      <td>1.0</td>\n",
       "      <td>0.0</td>\n",
       "      <td>0.50</td>\n",
       "      <td>0.0</td>\n",
       "      <td>0.0</td>\n",
       "      <td>0.0</td>\n",
       "      <td>0.0</td>\n",
       "      <td>0.0</td>\n",
       "      <td>normal.</td>\n",
       "    </tr>\n",
       "    <tr>\n",
       "      <th>3</th>\n",
       "      <td>0</td>\n",
       "      <td>tcp</td>\n",
       "      <td>http</td>\n",
       "      <td>SF</td>\n",
       "      <td>233</td>\n",
       "      <td>2032</td>\n",
       "      <td>0</td>\n",
       "      <td>0</td>\n",
       "      <td>0</td>\n",
       "      <td>0</td>\n",
       "      <td>...</td>\n",
       "      <td>3</td>\n",
       "      <td>1.0</td>\n",
       "      <td>0.0</td>\n",
       "      <td>0.33</td>\n",
       "      <td>0.0</td>\n",
       "      <td>0.0</td>\n",
       "      <td>0.0</td>\n",
       "      <td>0.0</td>\n",
       "      <td>0.0</td>\n",
       "      <td>normal.</td>\n",
       "    </tr>\n",
       "    <tr>\n",
       "      <th>4</th>\n",
       "      <td>0</td>\n",
       "      <td>tcp</td>\n",
       "      <td>http</td>\n",
       "      <td>SF</td>\n",
       "      <td>239</td>\n",
       "      <td>486</td>\n",
       "      <td>0</td>\n",
       "      <td>0</td>\n",
       "      <td>0</td>\n",
       "      <td>0</td>\n",
       "      <td>...</td>\n",
       "      <td>4</td>\n",
       "      <td>1.0</td>\n",
       "      <td>0.0</td>\n",
       "      <td>0.25</td>\n",
       "      <td>0.0</td>\n",
       "      <td>0.0</td>\n",
       "      <td>0.0</td>\n",
       "      <td>0.0</td>\n",
       "      <td>0.0</td>\n",
       "      <td>normal.</td>\n",
       "    </tr>\n",
       "  </tbody>\n",
       "</table>\n",
       "<p>5 rows × 42 columns</p>\n",
       "</div>"
      ],
      "text/plain": [
       "   duration: continuous. protocol_type: symbolic. service: symbolic.  \\\n",
       "0                      0                      tcp               http   \n",
       "1                      0                      tcp               http   \n",
       "2                      0                      tcp               http   \n",
       "3                      0                      tcp               http   \n",
       "4                      0                      tcp               http   \n",
       "\n",
       "  flag: symbolic.  src_bytes: continuous.  dst_bytes: continuous.  \\\n",
       "0              SF                     215                   45076   \n",
       "1              SF                     162                    4528   \n",
       "2              SF                     236                    1228   \n",
       "3              SF                     233                    2032   \n",
       "4              SF                     239                     486   \n",
       "\n",
       "   land: symbolic.  wrong_fragment: continuous.  urgent: continuous.  \\\n",
       "0                0                            0                    0   \n",
       "1                0                            0                    0   \n",
       "2                0                            0                    0   \n",
       "3                0                            0                    0   \n",
       "4                0                            0                    0   \n",
       "\n",
       "   hot: continuous.   ...     dst_host_srv_count: continuous.  \\\n",
       "0                 0   ...                                   0   \n",
       "1                 0   ...                                   1   \n",
       "2                 0   ...                                   2   \n",
       "3                 0   ...                                   3   \n",
       "4                 0   ...                                   4   \n",
       "\n",
       "   dst_host_same_srv_rate: continuous.  dst_host_diff_srv_rate: continuous.  \\\n",
       "0                                  0.0                                  0.0   \n",
       "1                                  1.0                                  0.0   \n",
       "2                                  1.0                                  0.0   \n",
       "3                                  1.0                                  0.0   \n",
       "4                                  1.0                                  0.0   \n",
       "\n",
       "   dst_host_same_src_port_rate: continuous.  \\\n",
       "0                                      0.00   \n",
       "1                                      1.00   \n",
       "2                                      0.50   \n",
       "3                                      0.33   \n",
       "4                                      0.25   \n",
       "\n",
       "   dst_host_srv_diff_host_rate: continuous.  \\\n",
       "0                                       0.0   \n",
       "1                                       0.0   \n",
       "2                                       0.0   \n",
       "3                                       0.0   \n",
       "4                                       0.0   \n",
       "\n",
       "   dst_host_serror_rate: continuous.  dst_host_srv_serror_rate: continuous.  \\\n",
       "0                                0.0                                    0.0   \n",
       "1                                0.0                                    0.0   \n",
       "2                                0.0                                    0.0   \n",
       "3                                0.0                                    0.0   \n",
       "4                                0.0                                    0.0   \n",
       "\n",
       "   dst_host_rerror_rate: continuous.  dst_host_srv_rerror_rate: continuous.  \\\n",
       "0                                0.0                                    0.0   \n",
       "1                                0.0                                    0.0   \n",
       "2                                0.0                                    0.0   \n",
       "3                                0.0                                    0.0   \n",
       "4                                0.0                                    0.0   \n",
       "\n",
       "   y:label  \n",
       "0  normal.  \n",
       "1  normal.  \n",
       "2  normal.  \n",
       "3  normal.  \n",
       "4  normal.  \n",
       "\n",
       "[5 rows x 42 columns]"
      ]
     },
     "execution_count": 3,
     "metadata": {},
     "output_type": "execute_result"
    }
   ],
   "source": [
    "features_types = [\"duration: continuous.\", \"protocol_type: symbolic.\", \"service: symbolic.\", \"flag: symbolic.\", \"src_bytes: continuous.\", \"dst_bytes: continuous.\", \"land: symbolic.\", \"wrong_fragment: continuous.\", \"urgent: continuous.\", \"hot: continuous.\", \"num_failed_logins: continuous.\", \"logged_in: symbolic.\", \"num_compromised: continuous.\", \"root_shell: continuous.\", \"su_attempted: continuous.\", \"num_root: continuous.\", \"num_file_creations: continuous.\", \"num_shells: continuous.\", \"num_access_files: continuous.\", \"num_outbound_cmds: continuous.\", \"is_host_login: symbolic.\", \"is_guest_login: symbolic.\", \"count: continuous.\", \"srv_count: continuous.\", \"serror_rate: continuous.\", \"srv_serror_rate: continuous.\", \"rerror_rate: continuous.\", \"srv_rerror_rate: continuous.\", \"same_srv_rate: continuous.\", \"diff_srv_rate: continuous.\", \"srv_diff_host_rate: continuous.\", \"dst_host_count: continuous.\", \"dst_host_srv_count: continuous.\", \"dst_host_same_srv_rate: continuous.\", \"dst_host_diff_srv_rate: continuous.\", \"dst_host_same_src_port_rate: continuous.\", \"dst_host_srv_diff_host_rate: continuous.\", \"dst_host_serror_rate: continuous.\", \"dst_host_srv_serror_rate: continuous.\", \"dst_host_rerror_rate: continuous.\", \"dst_host_srv_rerror_rate: continuous.\",'y:label']\n",
    "df = pd.read_csv(data_file_name, names=features_types)\n",
    "print(df.shape)\n",
    "df.head()"
   ]
  },
  {
   "cell_type": "markdown",
   "metadata": {},
   "source": [
    "**Treat as binary problem**"
   ]
  },
  {
   "cell_type": "code",
   "execution_count": 4,
   "metadata": {},
   "outputs": [
    {
     "data": {
      "text/plain": [
       "malware    3925650\n",
       "benign      972781\n",
       "Name: y_binary, dtype: int64"
      ]
     },
     "execution_count": 4,
     "metadata": {},
     "output_type": "execute_result"
    }
   ],
   "source": [
    "df['y_binary'] = 'benign'\n",
    "df.loc[df[y_field]!='normal.','y_binary']='malware'\n",
    "y_field = 'y_binary'\n",
    "n_classes = df[y_field].nunique()\n",
    "df['y_binary'].value_counts()"
   ]
  },
  {
   "cell_type": "markdown",
   "metadata": {},
   "source": [
    "**numeric vs categorical features**"
   ]
  },
  {
   "cell_type": "code",
   "execution_count": 5,
   "metadata": {},
   "outputs": [
    {
     "name": "stdout",
     "output_type": "stream",
     "text": [
      "#continous features: 34, #categorical features: 3\n"
     ]
    }
   ],
   "source": [
    "features_continuous = [x for x in features_types if 'continuous' in x]\n",
    "features_categorical = ['protocol_type: symbolic.','service: symbolic.','flag: symbolic.']\n",
    "print(f\"#continous features: {len(features_continuous)}, #categorical features: {len(features_categorical)}\")"
   ]
  },
  {
   "cell_type": "markdown",
   "metadata": {},
   "source": [
    "**add dummy features for categorical (one hot encoding)**"
   ]
  },
  {
   "cell_type": "code",
   "execution_count": 6,
   "metadata": {},
   "outputs": [
    {
     "data": {
      "text/plain": [
       "(4898431, 124)"
      ]
     },
     "execution_count": 6,
     "metadata": {},
     "output_type": "execute_result"
    }
   ],
   "source": [
    "df = pd.get_dummies(df,columns=features_categorical)\n",
    "df.shape"
   ]
  },
  {
   "cell_type": "markdown",
   "metadata": {},
   "source": [
    "**get all new dummy features **"
   ]
  },
  {
   "cell_type": "code",
   "execution_count": 7,
   "metadata": {
    "scrolled": true
   },
   "outputs": [
    {
     "data": {
      "text/plain": [
       "75"
      ]
     },
     "execution_count": 7,
     "metadata": {},
     "output_type": "execute_result"
    }
   ],
   "source": [
    "_remove_learn_featrues_all =['service: symbolic._aol','service: symbolic._harvest','service: symbolic._http_2784','service: symbolic._http_8001']\n",
    "_remove_learn_featrues_10percent = ['service: symbolic._red_i','service: symbolic._urh_i']\n",
    "features_categorical_extended = [x for y in features_categorical for x in df.columns if x.split('_')[0]==y]\n",
    "features_categorical_extended = list(set(features_categorical_extended)-set(_remove_learn_featrues_10percent))\n",
    "if data_file_name =='../data/kddcup.data.gz':    \n",
    "    features_categorical_extended = list(set(features_categorical_extended)-set(_remove_learn_featrues_all))\n",
    "# TEST FEATURES != LEARN FEATURES\n",
    "len(features_categorical_extended)"
   ]
  },
  {
   "cell_type": "code",
   "execution_count": 8,
   "metadata": {},
   "outputs": [
    {
     "name": "stdout",
     "output_type": "stream",
     "text": [
      "(4898431, 124) (1074992, 124)\n"
     ]
    }
   ],
   "source": [
    "print(df.shape,df.drop_duplicates().shape)"
   ]
  },
  {
   "cell_type": "code",
   "execution_count": 9,
   "metadata": {},
   "outputs": [],
   "source": [
    "# df.drop_duplicates(inplace=True)"
   ]
  },
  {
   "cell_type": "markdown",
   "metadata": {},
   "source": [
    "## Validate and learn"
   ]
  },
  {
   "cell_type": "code",
   "execution_count": 10,
   "metadata": {},
   "outputs": [],
   "source": [
    "from sklearn.base import BaseEstimator,TransformerMixin\n",
    "from sklearn.preprocessing import MinMaxScaler,LabelEncoder,OneHotEncoder\n",
    "from sklearn.pipeline import Pipeline,FeatureUnion\n",
    "from sklearn.model_selection import StratifiedShuffleSplit,StratifiedKFold,KFold\n",
    "from sklearn.svm import SVC,LinearSVC\n",
    "from sklearn.linear_model import LogisticRegression\n",
    "from sklearn.ensemble import RandomForestClassifier\n",
    "from sklearn.metrics import confusion_matrix,precision_score,classification_report,accuracy_score\n",
    "from sklearn.feature_selection import SelectFromModel"
   ]
  },
  {
   "cell_type": "code",
   "execution_count": 11,
   "metadata": {},
   "outputs": [],
   "source": [
    "# Class that identifies Column type\n",
    "class ItemSelector(BaseEstimator, TransformerMixin):\n",
    "    def __init__(self, names=None):\n",
    "        self.names = names\n",
    "    def fit (self, X, y=None, **fit_params):\n",
    "        return self\n",
    "    def transform(self, X):\n",
    "        return X[self.names]\n",
    "    \n",
    "class Logger(BaseEstimator):\n",
    "    def __init__(self):\n",
    "        pass\n",
    "    def fit(self, X, y=None):\n",
    "        return self\n",
    "    def transform(self,X, y=None):\n",
    "        print(\"process done: {}\".format(X.shape))\n",
    "        return X"
   ]
  },
  {
   "cell_type": "code",
   "execution_count": 12,
   "metadata": {},
   "outputs": [],
   "source": [
    "features = FeatureUnion(\n",
    "    transformer_list=[\n",
    "        (\"numeric\",Pipeline(\n",
    "        [\n",
    "            ('selector',ItemSelector(names=features_continuous)),\n",
    "            ('scaler',MinMaxScaler()),\n",
    "            ('log',Logger()),\n",
    "        ])\n",
    "        ),\n",
    "        \n",
    "        \n",
    "         (\"categorical\",Pipeline(\n",
    "        [\n",
    "            ('selector',ItemSelector(names=features_categorical_extended)),\n",
    "            ('log',Logger()),\n",
    "        ])\n",
    "        ),\n",
    "    ]\n",
    ")"
   ]
  },
  {
   "cell_type": "code",
   "execution_count": 31,
   "metadata": {},
   "outputs": [],
   "source": [
    "# cls = SVC()\n",
    "# cls = RandomForestClassifier(n_jobs=10, max_depth=5, n_estimators=10, max_features=1)\n",
    "cls = LogisticRegression()\n",
    "simple_pipeline = Pipeline(\n",
    "[\n",
    "    ('features',features),\n",
    "    ('select_features',SelectFromModel(LinearSVC())),\n",
    "    ('log',Logger()),\n",
    "    ('cls',cls)\n",
    "],\n",
    ")"
   ]
  },
  {
   "cell_type": "code",
   "execution_count": 32,
   "metadata": {
    "scrolled": false
   },
   "outputs": [
    {
     "name": "stdout",
     "output_type": "stream",
     "text": [
      "process done: (2449215, 34)\n",
      "process done: (2449215, 75)\n"
     ]
    },
    {
     "name": "stderr",
     "output_type": "stream",
     "text": [
      "D:\\MyProgramFiles\\Anaconda3\\envs\\web-page\\lib\\site-packages\\sklearn\\utils\\__init__.py:93: FutureWarning: Conversion of the second argument of issubdtype from `int` to `np.signedinteger` is deprecated. In future, it will be treated as `np.int32 == np.dtype(int).type`.\n",
      "  if np.issubdtype(mask.dtype, np.int):\n"
     ]
    },
    {
     "name": "stdout",
     "output_type": "stream",
     "text": [
      "process done: (2449215, 43)\n",
      "process done: (2449216, 34)\n",
      "process done: (2449216, 75)\n",
      "process done: (2449216, 43)\n",
      "p_micro:0.9977204950482114,p_macro:0.9952736184816483\n",
      "             precision    recall  f1-score   support\n",
      "\n",
      "     benign       0.99      1.00      0.99    486391\n",
      "    malware       1.00      1.00      1.00   1962825\n",
      "\n",
      "avg / total       1.00      1.00      1.00   2449216\n",
      "\n",
      "process done: (2449216, 34)\n",
      "process done: (2449216, 75)\n"
     ]
    },
    {
     "name": "stderr",
     "output_type": "stream",
     "text": [
      "D:\\MyProgramFiles\\Anaconda3\\envs\\web-page\\lib\\site-packages\\sklearn\\utils\\__init__.py:93: FutureWarning: Conversion of the second argument of issubdtype from `int` to `np.signedinteger` is deprecated. In future, it will be treated as `np.int32 == np.dtype(int).type`.\n",
      "  if np.issubdtype(mask.dtype, np.int):\n"
     ]
    },
    {
     "name": "stdout",
     "output_type": "stream",
     "text": [
      "process done: (2449216, 43)\n",
      "process done: (2449215, 34)\n",
      "process done: (2449215, 75)\n",
      "process done: (2449215, 43)\n",
      "p_micro:0.9977629567024536,p_macro:0.9954051988571913\n",
      "             precision    recall  f1-score   support\n",
      "\n",
      "     benign       0.99      1.00      0.99    486390\n",
      "    malware       1.00      1.00      1.00   1962825\n",
      "\n",
      "avg / total       1.00      1.00      1.00   2449215\n",
      "\n",
      "average confusion matrix:\n",
      "[[ 485098    1292]\n",
      " [   4238 1958586]]\n",
      "estimation finished. Elapsed: 301.3200874328613\n"
     ]
    },
    {
     "data": {
      "application/javascript": [
       "$(document).ready(\n",
       "    function() {\n",
       "        function appendUniqueDiv(){\n",
       "            // append a div with our uuid so we can check that it's already\n",
       "            // been sent and avoid duplicates on page reload\n",
       "            var notifiedDiv = document.createElement(\"div\")\n",
       "            notifiedDiv.id = \"36a44d82-8ec5-4c33-b93e-a916be57c768\"\n",
       "            element.append(notifiedDiv)\n",
       "        }\n",
       "\n",
       "        // only send notifications if the pageload is complete; this will\n",
       "        // help stop extra notifications when a saved notebook is loaded,\n",
       "        // which during testing gives us state \"interactive\", not \"complete\"\n",
       "        if (document.readyState === 'complete') {\n",
       "            // check for the div that signifies that the notification\n",
       "            // was already sent\n",
       "            if (document.getElementById(\"36a44d82-8ec5-4c33-b93e-a916be57c768\") === null) {\n",
       "                var notificationPayload = {\"requireInteraction\": false, \"icon\": \"/static/base/images/favicon.ico\", \"body\": \"Cell execution has finished!\"};\n",
       "                if (Notification.permission !== 'denied') {\n",
       "                    if (Notification.permission !== 'granted') { \n",
       "                        Notification.requestPermission(function (permission) {\n",
       "                            if(!('permission' in Notification)) {\n",
       "                                Notification.permission = permission\n",
       "                            }\n",
       "                        })\n",
       "                    }\n",
       "                    if (Notification.permission === 'granted') {\n",
       "                    var notification = new Notification(\"Jupyter Notebook\", notificationPayload)\n",
       "                    appendUniqueDiv()\n",
       "                    notification.onclick = function () {\n",
       "                        window.focus();\n",
       "                        this.close();\n",
       "                        };\n",
       "                    } \n",
       "                }     \n",
       "            }\n",
       "        }\n",
       "    }\n",
       ")\n"
      ],
      "text/plain": [
       "<IPython.core.display.Javascript object>"
      ]
     },
     "metadata": {},
     "output_type": "display_data"
    }
   ],
   "source": [
    "%%notify\n",
    "t = time()\n",
    "cv = StratifiedKFold(n_splits=2, shuffle=True)\n",
    "# cv = StratifiedShuffleSplit(n_splits=3,test_size=0.1)\n",
    "cms = np.ndarray((cv.n_splits, n_classes * n_classes), int)\n",
    "for i, (train, test) in zip(range(cv.n_splits),cv.split(df,df[y_field])):\n",
    "    simple_pipeline.fit(df.iloc[train],df.iloc[train][y_field])\n",
    "    y_pred = simple_pipeline.predict(df.iloc[test])\n",
    "    cm = confusion_matrix(df.iloc[test][y_field], y_pred)\n",
    "#     print(cm)\n",
    "    print(\"p_micro:{},p_macro:{}\".format(precision_score(df.iloc[test][y_field],y_pred,average='micro'),\n",
    "                                        precision_score(df.iloc[test][y_field],y_pred,average='macro')))\n",
    "    print(classification_report(df.iloc[test][y_field],y_pred))\n",
    "    cms[i] = cm.flatten()\n",
    "avg_cms = cms.mean(axis=0).reshape((n_classes, n_classes)).astype(int)\n",
    "print('average confusion matrix:\\n{}'.format(avg_cms))\n",
    "print('estimation finished. Elapsed: {}'.format(time() - t))"
   ]
  },
  {
   "cell_type": "markdown",
   "metadata": {},
   "source": [
    "**Learn on all data**"
   ]
  },
  {
   "cell_type": "code",
   "execution_count": 33,
   "metadata": {},
   "outputs": [
    {
     "name": "stdout",
     "output_type": "stream",
     "text": [
      "process done: (4898431, 34)\n",
      "process done: (4898431, 75)\n"
     ]
    },
    {
     "name": "stderr",
     "output_type": "stream",
     "text": [
      "D:\\MyProgramFiles\\Anaconda3\\envs\\web-page\\lib\\site-packages\\sklearn\\utils\\__init__.py:93: FutureWarning: Conversion of the second argument of issubdtype from `int` to `np.signedinteger` is deprecated. In future, it will be treated as `np.int32 == np.dtype(int).type`.\n",
      "  if np.issubdtype(mask.dtype, np.int):\n"
     ]
    },
    {
     "name": "stdout",
     "output_type": "stream",
     "text": [
      "process done: (4898431, 43)\n"
     ]
    },
    {
     "data": {
      "text/plain": [
       "Pipeline(memory=None,\n",
       "     steps=[('features', FeatureUnion(n_jobs=1,\n",
       "       transformer_list=[('numeric', Pipeline(memory=None,\n",
       "     steps=[('selector', ItemSelector(names=['duration: continuous.', 'src_bytes: continuous.', 'dst_bytes: continuous.', 'wrong_fragment: continuous.', 'urgent: continuous.', 'hot: continuous.', 'n...ty='l2', random_state=None, solver='liblinear', tol=0.0001,\n",
       "          verbose=0, warm_start=False))])"
      ]
     },
     "execution_count": 33,
     "metadata": {},
     "output_type": "execute_result"
    }
   ],
   "source": [
    "simple_pipeline.fit(df,df[y_field])"
   ]
  },
  {
   "cell_type": "markdown",
   "metadata": {},
   "source": [
    "**Select features**"
   ]
  },
  {
   "cell_type": "code",
   "execution_count": 34,
   "metadata": {},
   "outputs": [],
   "source": [
    "feature_importances = pd.DataFrame(simple_pipeline.named_steps['cls'].feature_importances_,\n",
    "                                   index = df[features_continuous + features_categorical_extended].columns,\n",
    "                                    columns=['importance']).sort_values('importance', ascending=False)"
   ]
  },
  {
   "cell_type": "markdown",
   "metadata": {},
   "source": [
    "# Estimation"
   ]
  },
  {
   "cell_type": "code",
   "execution_count": 35,
   "metadata": {},
   "outputs": [
    {
     "name": "stdout",
     "output_type": "stream",
     "text": [
      "(311029, 42)\n"
     ]
    },
    {
     "data": {
      "text/html": [
       "<div>\n",
       "<style>\n",
       "    .dataframe thead tr:only-child th {\n",
       "        text-align: right;\n",
       "    }\n",
       "\n",
       "    .dataframe thead th {\n",
       "        text-align: left;\n",
       "    }\n",
       "\n",
       "    .dataframe tbody tr th {\n",
       "        vertical-align: top;\n",
       "    }\n",
       "</style>\n",
       "<table border=\"1\" class=\"dataframe\">\n",
       "  <thead>\n",
       "    <tr style=\"text-align: right;\">\n",
       "      <th></th>\n",
       "      <th>duration: continuous.</th>\n",
       "      <th>protocol_type: symbolic.</th>\n",
       "      <th>service: symbolic.</th>\n",
       "      <th>flag: symbolic.</th>\n",
       "      <th>src_bytes: continuous.</th>\n",
       "      <th>dst_bytes: continuous.</th>\n",
       "      <th>land: symbolic.</th>\n",
       "      <th>wrong_fragment: continuous.</th>\n",
       "      <th>urgent: continuous.</th>\n",
       "      <th>hot: continuous.</th>\n",
       "      <th>...</th>\n",
       "      <th>dst_host_srv_count: continuous.</th>\n",
       "      <th>dst_host_same_srv_rate: continuous.</th>\n",
       "      <th>dst_host_diff_srv_rate: continuous.</th>\n",
       "      <th>dst_host_same_src_port_rate: continuous.</th>\n",
       "      <th>dst_host_srv_diff_host_rate: continuous.</th>\n",
       "      <th>dst_host_serror_rate: continuous.</th>\n",
       "      <th>dst_host_srv_serror_rate: continuous.</th>\n",
       "      <th>dst_host_rerror_rate: continuous.</th>\n",
       "      <th>dst_host_srv_rerror_rate: continuous.</th>\n",
       "      <th>y:label</th>\n",
       "    </tr>\n",
       "  </thead>\n",
       "  <tbody>\n",
       "    <tr>\n",
       "      <th>0</th>\n",
       "      <td>0</td>\n",
       "      <td>udp</td>\n",
       "      <td>private</td>\n",
       "      <td>SF</td>\n",
       "      <td>105</td>\n",
       "      <td>146</td>\n",
       "      <td>0</td>\n",
       "      <td>0</td>\n",
       "      <td>0</td>\n",
       "      <td>0</td>\n",
       "      <td>...</td>\n",
       "      <td>254</td>\n",
       "      <td>1.0</td>\n",
       "      <td>0.01</td>\n",
       "      <td>0.00</td>\n",
       "      <td>0.0</td>\n",
       "      <td>0.0</td>\n",
       "      <td>0.0</td>\n",
       "      <td>0.0</td>\n",
       "      <td>0.0</td>\n",
       "      <td>normal.</td>\n",
       "    </tr>\n",
       "    <tr>\n",
       "      <th>1</th>\n",
       "      <td>0</td>\n",
       "      <td>udp</td>\n",
       "      <td>private</td>\n",
       "      <td>SF</td>\n",
       "      <td>105</td>\n",
       "      <td>146</td>\n",
       "      <td>0</td>\n",
       "      <td>0</td>\n",
       "      <td>0</td>\n",
       "      <td>0</td>\n",
       "      <td>...</td>\n",
       "      <td>254</td>\n",
       "      <td>1.0</td>\n",
       "      <td>0.01</td>\n",
       "      <td>0.00</td>\n",
       "      <td>0.0</td>\n",
       "      <td>0.0</td>\n",
       "      <td>0.0</td>\n",
       "      <td>0.0</td>\n",
       "      <td>0.0</td>\n",
       "      <td>normal.</td>\n",
       "    </tr>\n",
       "    <tr>\n",
       "      <th>2</th>\n",
       "      <td>0</td>\n",
       "      <td>udp</td>\n",
       "      <td>private</td>\n",
       "      <td>SF</td>\n",
       "      <td>105</td>\n",
       "      <td>146</td>\n",
       "      <td>0</td>\n",
       "      <td>0</td>\n",
       "      <td>0</td>\n",
       "      <td>0</td>\n",
       "      <td>...</td>\n",
       "      <td>254</td>\n",
       "      <td>1.0</td>\n",
       "      <td>0.01</td>\n",
       "      <td>0.00</td>\n",
       "      <td>0.0</td>\n",
       "      <td>0.0</td>\n",
       "      <td>0.0</td>\n",
       "      <td>0.0</td>\n",
       "      <td>0.0</td>\n",
       "      <td>normal.</td>\n",
       "    </tr>\n",
       "    <tr>\n",
       "      <th>3</th>\n",
       "      <td>0</td>\n",
       "      <td>udp</td>\n",
       "      <td>private</td>\n",
       "      <td>SF</td>\n",
       "      <td>105</td>\n",
       "      <td>146</td>\n",
       "      <td>0</td>\n",
       "      <td>0</td>\n",
       "      <td>0</td>\n",
       "      <td>0</td>\n",
       "      <td>...</td>\n",
       "      <td>254</td>\n",
       "      <td>1.0</td>\n",
       "      <td>0.01</td>\n",
       "      <td>0.00</td>\n",
       "      <td>0.0</td>\n",
       "      <td>0.0</td>\n",
       "      <td>0.0</td>\n",
       "      <td>0.0</td>\n",
       "      <td>0.0</td>\n",
       "      <td>snmpgetattack.</td>\n",
       "    </tr>\n",
       "    <tr>\n",
       "      <th>4</th>\n",
       "      <td>0</td>\n",
       "      <td>udp</td>\n",
       "      <td>private</td>\n",
       "      <td>SF</td>\n",
       "      <td>105</td>\n",
       "      <td>146</td>\n",
       "      <td>0</td>\n",
       "      <td>0</td>\n",
       "      <td>0</td>\n",
       "      <td>0</td>\n",
       "      <td>...</td>\n",
       "      <td>254</td>\n",
       "      <td>1.0</td>\n",
       "      <td>0.01</td>\n",
       "      <td>0.01</td>\n",
       "      <td>0.0</td>\n",
       "      <td>0.0</td>\n",
       "      <td>0.0</td>\n",
       "      <td>0.0</td>\n",
       "      <td>0.0</td>\n",
       "      <td>snmpgetattack.</td>\n",
       "    </tr>\n",
       "  </tbody>\n",
       "</table>\n",
       "<p>5 rows × 42 columns</p>\n",
       "</div>"
      ],
      "text/plain": [
       "   duration: continuous. protocol_type: symbolic. service: symbolic.  \\\n",
       "0                      0                      udp            private   \n",
       "1                      0                      udp            private   \n",
       "2                      0                      udp            private   \n",
       "3                      0                      udp            private   \n",
       "4                      0                      udp            private   \n",
       "\n",
       "  flag: symbolic.  src_bytes: continuous.  dst_bytes: continuous.  \\\n",
       "0              SF                     105                     146   \n",
       "1              SF                     105                     146   \n",
       "2              SF                     105                     146   \n",
       "3              SF                     105                     146   \n",
       "4              SF                     105                     146   \n",
       "\n",
       "   land: symbolic.  wrong_fragment: continuous.  urgent: continuous.  \\\n",
       "0                0                            0                    0   \n",
       "1                0                            0                    0   \n",
       "2                0                            0                    0   \n",
       "3                0                            0                    0   \n",
       "4                0                            0                    0   \n",
       "\n",
       "   hot: continuous.       ...        dst_host_srv_count: continuous.  \\\n",
       "0                 0       ...                                    254   \n",
       "1                 0       ...                                    254   \n",
       "2                 0       ...                                    254   \n",
       "3                 0       ...                                    254   \n",
       "4                 0       ...                                    254   \n",
       "\n",
       "   dst_host_same_srv_rate: continuous.  dst_host_diff_srv_rate: continuous.  \\\n",
       "0                                  1.0                                 0.01   \n",
       "1                                  1.0                                 0.01   \n",
       "2                                  1.0                                 0.01   \n",
       "3                                  1.0                                 0.01   \n",
       "4                                  1.0                                 0.01   \n",
       "\n",
       "   dst_host_same_src_port_rate: continuous.  \\\n",
       "0                                      0.00   \n",
       "1                                      0.00   \n",
       "2                                      0.00   \n",
       "3                                      0.00   \n",
       "4                                      0.01   \n",
       "\n",
       "   dst_host_srv_diff_host_rate: continuous.  \\\n",
       "0                                       0.0   \n",
       "1                                       0.0   \n",
       "2                                       0.0   \n",
       "3                                       0.0   \n",
       "4                                       0.0   \n",
       "\n",
       "   dst_host_serror_rate: continuous.  dst_host_srv_serror_rate: continuous.  \\\n",
       "0                                0.0                                    0.0   \n",
       "1                                0.0                                    0.0   \n",
       "2                                0.0                                    0.0   \n",
       "3                                0.0                                    0.0   \n",
       "4                                0.0                                    0.0   \n",
       "\n",
       "   dst_host_rerror_rate: continuous.  dst_host_srv_rerror_rate: continuous.  \\\n",
       "0                                0.0                                    0.0   \n",
       "1                                0.0                                    0.0   \n",
       "2                                0.0                                    0.0   \n",
       "3                                0.0                                    0.0   \n",
       "4                                0.0                                    0.0   \n",
       "\n",
       "          y:label  \n",
       "0         normal.  \n",
       "1         normal.  \n",
       "2         normal.  \n",
       "3  snmpgetattack.  \n",
       "4  snmpgetattack.  \n",
       "\n",
       "[5 rows x 42 columns]"
      ]
     },
     "execution_count": 35,
     "metadata": {},
     "output_type": "execute_result"
    }
   ],
   "source": [
    "df_test = pd.read_csv('../data/corrected.gz',names=features_types)\n",
    "print(df_test.shape)\n",
    "df_test.head()"
   ]
  },
  {
   "cell_type": "code",
   "execution_count": 36,
   "metadata": {},
   "outputs": [],
   "source": [
    "df_test.drop_duplicates(inplace=True)"
   ]
  },
  {
   "cell_type": "code",
   "execution_count": 37,
   "metadata": {},
   "outputs": [
    {
     "data": {
      "text/plain": [
       "benign     47913\n",
       "malware    29378\n",
       "Name: y_binary, dtype: int64"
      ]
     },
     "execution_count": 37,
     "metadata": {},
     "output_type": "execute_result"
    }
   ],
   "source": [
    "df_test['y_binary'] = 'benign'\n",
    "df_test.loc[df_test['y:label']!='normal.','y_binary']='malware'\n",
    "y_field = 'y_binary'\n",
    "df_test = pd.get_dummies(df_test,columns=features_categorical)\n",
    "df_test['y_binary'].value_counts()"
   ]
  },
  {
   "cell_type": "code",
   "execution_count": 38,
   "metadata": {},
   "outputs": [
    {
     "name": "stdout",
     "output_type": "stream",
     "text": [
      "process done: (77291, 34)\n",
      "process done: (77291, 75)\n"
     ]
    },
    {
     "name": "stderr",
     "output_type": "stream",
     "text": [
      "D:\\MyProgramFiles\\Anaconda3\\envs\\web-page\\lib\\site-packages\\sklearn\\utils\\__init__.py:93: FutureWarning: Conversion of the second argument of issubdtype from `int` to `np.signedinteger` is deprecated. In future, it will be treated as `np.int32 == np.dtype(int).type`.\n",
      "  if np.issubdtype(mask.dtype, np.int):\n"
     ]
    },
    {
     "name": "stdout",
     "output_type": "stream",
     "text": [
      "process done: (77291, 43)\n",
      "             precision    recall  f1-score   support\n",
      "\n",
      "     benign       0.88      0.98      0.93     47913\n",
      "    malware       0.97      0.78      0.86     29378\n",
      "\n",
      "avg / total       0.91      0.91      0.90     77291\n",
      "\n",
      "acc:0.9071043200372618\n",
      "[[47128   785]\n",
      " [ 6395 22983]]\n"
     ]
    }
   ],
   "source": [
    "df_test['y_pred'] = simple_pipeline.predict(df_test)\n",
    "print(classification_report(df_test[y_field],df_test['y_pred']))\n",
    "print(f\"acc:{accuracy_score(df_test[y_field],df_test['y_pred'])}\")\n",
    "print(confusion_matrix(df_test[y_field],df_test['y_pred']))"
   ]
  },
  {
   "cell_type": "markdown",
   "metadata": {},
   "source": [
    "# Замечания и дальнейшее развитие:\n",
    "* Можно попробовать поиск оптимальных значений гипер-параметров моделей с помощью gridsearch(cv)\n",
    "* Попробовать уменьшить размерность признаков с помощью PCA (визуализировать с помощью TSNE)\n",
    "* Если качество не устраивает, то пробовать комбинировать классификаторы (ансамбли, бустинги)\n",
    "* Попробовать нейронные сети\n",
    "* Согласно авторам [статьи](https://www.ee.ryerson.ca/~bagheri/papers/cisda.pdf) не корректно оценивать качество моделей на предлагаемом тестовом датасете, соответственно, попробовать оценить предлагаемую модель на другом [датасете](https://github.com/defcom17/NSL_KDD)\n",
    "\n",
    "результат на тестовом сете(без удаления дубликатов) с помощью `simple_pipeline`:\n",
    "```python \n",
    "          precision    recall  f1-score   support\n",
    "\n",
    "     benign       0.88      0.98      0.93     47913\n",
    "    malware       0.97      0.78      0.86     29378\n",
    "\n",
    "avg / total       0.91      0.91      0.90     77291\n",
    "\n",
    "acc:0.9071043200372618\n",
    "[[47128   785]\n",
    " [ 6395 22983]]\n",
    "\n",
    "simple_pipeline = Pipeline(\n",
    "[\n",
    "    ('features',FeatureUnion(\n",
    "    transformer_list=[\n",
    "        (\"numeric\",Pipeline(\n",
    "        [\n",
    "            ('selector',ItemSelector(names=features_continuous)),\n",
    "            ('scaler',MinMaxScaler()),\n",
    "            ('log',Logger()),\n",
    "        ])\n",
    "        ),\n",
    "         (\"categorical\",Pipeline(\n",
    "        [\n",
    "            ('selector',ItemSelector(names=features_categorical_extended)),\n",
    "            ('log',Logger()),\n",
    "        ])\n",
    "        ),\n",
    "    ]\n",
    ")),\n",
    "    ('select_features',SelectFromModel(LinearSVC())),\n",
    "    ('log',Logger()),\n",
    "    ('cls',LogisticRegression())\n",
    "],\n",
    ")`\n",
    "```\n"
   ]
  },
  {
   "cell_type": "code",
   "execution_count": null,
   "metadata": {},
   "outputs": [],
   "source": []
  }
 ],
 "metadata": {
  "anaconda-cloud": {},
  "kernelspec": {
   "display_name": "Python [conda env:web-page]",
   "language": "python",
   "name": "conda-env-web-page-py"
  },
  "language_info": {
   "codemirror_mode": {
    "name": "ipython",
    "version": 3
   },
   "file_extension": ".py",
   "mimetype": "text/x-python",
   "name": "python",
   "nbconvert_exporter": "python",
   "pygments_lexer": "ipython3",
   "version": "3.6.4"
  }
 },
 "nbformat": 4,
 "nbformat_minor": 2
}
